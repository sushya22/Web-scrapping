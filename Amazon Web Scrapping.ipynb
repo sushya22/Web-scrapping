{
 "cells": [
  {
   "cell_type": "code",
   "execution_count": 1,
   "id": "72c513d0",
   "metadata": {},
   "outputs": [],
   "source": [
    "from flask import Flask,request,render_template,jsonify\n",
    "from urllib.request import urlopen as uReq\n",
    "from bs4 import BeautifulSoup as bs\n",
    "import requests"
   ]
  },
  {
   "cell_type": "code",
   "execution_count": 2,
   "id": "6488100a",
   "metadata": {},
   "outputs": [],
   "source": [
    "product_name=\"udlyrava\""
   ]
  },
  {
   "cell_type": "code",
   "execution_count": 3,
   "id": "45d1aa29",
   "metadata": {},
   "outputs": [],
   "source": [
    "amazon_url=\"https://www.amazon.in/s?k=\"+product_name"
   ]
  },
  {
   "cell_type": "code",
   "execution_count": 4,
   "id": "40c4fb25",
   "metadata": {},
   "outputs": [
    {
     "data": {
      "text/plain": [
       "'https://www.amazon.in/s?k=udlyrava'"
      ]
     },
     "execution_count": 4,
     "metadata": {},
     "output_type": "execute_result"
    }
   ],
   "source": [
    "amazon_url"
   ]
  },
  {
   "cell_type": "code",
   "execution_count": 5,
   "id": "d1fd2872",
   "metadata": {},
   "outputs": [],
   "source": [
    "HEADERS = ({'User-Agent':\n",
    "            'Mozilla/5.0 (Windows NT 10.0; Win64; x64) \\\n",
    "            AppleWebKit/537.36 (KHTML, like Gecko) \\\n",
    "            Chrome/90.0.4430.212 Safari/537.36',\n",
    "            'Accept-Language': 'en-US, en;q=0.5'})"
   ]
  },
  {
   "cell_type": "code",
   "execution_count": 6,
   "id": "e6aee327",
   "metadata": {},
   "outputs": [],
   "source": [
    "data=requests.get(amazon_url,headers=HEADERS)"
   ]
  },
  {
   "cell_type": "code",
   "execution_count": 7,
   "id": "56ff1f41",
   "metadata": {},
   "outputs": [
    {
     "data": {
      "text/plain": [
       "<Response [200]>"
      ]
     },
     "execution_count": 7,
     "metadata": {},
     "output_type": "execute_result"
    }
   ],
   "source": [
    "data"
   ]
  },
  {
   "cell_type": "code",
   "execution_count": 8,
   "id": "1320e091",
   "metadata": {},
   "outputs": [],
   "source": [
    "amazon_page=data.text"
   ]
  },
  {
   "cell_type": "code",
   "execution_count": 9,
   "id": "8ebf9790",
   "metadata": {},
   "outputs": [],
   "source": [
    "amazon_html=bs(amazon_page,'html.parser')"
   ]
  },
  {
   "cell_type": "code",
   "execution_count": 10,
   "id": "659fea5a",
   "metadata": {},
   "outputs": [],
   "source": [
    "amazon_items=amazon_html.findAll('div',{\"class\":\"sg-col-4-of-24 sg-col-4-of-12 s-result-item s-asin sg-col-4-of-16 AdHolder sg-col s-widget-spacing-small sg-col-4-of-20\"})"
   ]
  },
  {
   "cell_type": "code",
   "execution_count": 11,
   "id": "73d6e045",
   "metadata": {},
   "outputs": [],
   "source": [
    "data=amazon_items[0].div.div.div.div.div.find_all('h2')\n"
   ]
  },
  {
   "cell_type": "code",
   "execution_count": 12,
   "id": "493ba7a1",
   "metadata": {},
   "outputs": [],
   "source": [
    "product_name=data[0].a.span.text"
   ]
  },
  {
   "cell_type": "code",
   "execution_count": 13,
   "id": "70649e4c",
   "metadata": {},
   "outputs": [],
   "source": [
    "product_url=\"https://www.amazon.in/\"+data[0].a['href']"
   ]
  },
  {
   "cell_type": "code",
   "execution_count": 14,
   "id": "1de0820f",
   "metadata": {
    "scrolled": true
   },
   "outputs": [
    {
     "data": {
      "text/plain": [
       "'https://www.amazon.in//sspa/click?ie=UTF8&spc=MTo1OTg2ODY1OTQ0Nzg0MTY3OjE2NzQ4OTA2MDQ6c3BfYXRmOjIwMDg2NjM4NDk3Mzk4OjowOjo&url=%2FSudhanya-Kodo-Millet-Instant-Breakfast%2Fdp%2FB0BF5CNYLR%2Fref%3Dsr_1_1_sspa%3Fkeywords%3Didli%2Brava%26qid%3D1674890604%26sr%3D8-1-spons%26sp_csd%3Dd2lkZ2V0TmFtZT1zcF9hdGY%26psc%3D1'"
      ]
     },
     "execution_count": 14,
     "metadata": {},
     "output_type": "execute_result"
    }
   ],
   "source": [
    "product_url"
   ]
  },
  {
   "cell_type": "code",
   "execution_count": 15,
   "id": "63ad7cfe",
   "metadata": {},
   "outputs": [],
   "source": [
    "product_rating=amazon_items[0].div.div.div.div.div.div.find_all('div')[7].div.span.span.text"
   ]
  },
  {
   "cell_type": "code",
   "execution_count": 16,
   "id": "eedc7525",
   "metadata": {},
   "outputs": [
    {
     "data": {
      "text/plain": [
       "'₹90'"
      ]
     },
     "execution_count": 16,
     "metadata": {},
     "output_type": "execute_result"
    }
   ],
   "source": [
    "product_rating"
   ]
  },
  {
   "cell_type": "code",
   "execution_count": 17,
   "id": "bc4b6865",
   "metadata": {},
   "outputs": [],
   "source": [
    "#total_cost=amazon_items[0].div.div.div.div.div.div.find_all('div')[9].div.a.span.span.text"
   ]
  },
  {
   "cell_type": "code",
   "execution_count": 18,
   "id": "c895eedd",
   "metadata": {},
   "outputs": [],
   "source": [
    "#costperkg=amazon_items[0].div.div.div.div.div.div.find_all('div')[9].div.find_all('span')[5].text\n",
    "\n"
   ]
  },
  {
   "cell_type": "code",
   "execution_count": 19,
   "id": "fa6a818b",
   "metadata": {},
   "outputs": [
    {
     "data": {
      "text/plain": [
       "12"
      ]
     },
     "execution_count": 19,
     "metadata": {},
     "output_type": "execute_result"
    }
   ],
   "source": [
    "len(amazon_items)"
   ]
  },
  {
   "cell_type": "code",
   "execution_count": 20,
   "id": "829f5eef",
   "metadata": {},
   "outputs": [],
   "source": [
    "result=[]\n",
    "for item in amazon_items:\n",
    "    try:\n",
    "        d={\n",
    "        \"product_name\":item.div.div.div.div.div.find_all('h2')[0].a.span.text,\n",
    "        \"product_price\":item.div.div.div.div.div.div.find_all('div')[9].div.a.span.span.text,\n",
    "        \"product_ratings\":item.div.div.div.div.div.div.find_all('div')[7].div.span.span.text,\n",
    "        \"product_order\":\"https://www.amazon.in/\"+item.div.div.div.div.div.find_all('h2')[0].a['href']\n",
    "        }\n",
    "        result.append(d)\n",
    "            \n",
    "    except:\n",
    "        d={\n",
    "            \n",
    "        }\n",
    "        \n",
    "    #print(item.div.div.div.div.div.find_all('h2')[0].a.span.text)\n",
    "    #print(item.div.div.div.div.div.div.find_all('div')[9].div.a.span.span.text)\n",
    "    "
   ]
  },
  {
   "cell_type": "code",
   "execution_count": 21,
   "id": "e709c8cb",
   "metadata": {},
   "outputs": [
    {
     "data": {
      "text/plain": [
       "[{'product_name': 'Sudhanya Little Millet Idli Rava 500 gm Instant Breakfast Mix',\n",
       "  'product_price': '₹90',\n",
       "  'product_ratings': '2.0 out of 5 stars',\n",
       "  'product_order': 'https://www.amazon.in//sspa/click?ie=UTF8&spc=MTo1OTg2ODY1OTQ0Nzg0MTY3OjE2NzQ4OTA2MDQ6c3BfYXRmOjIwMDg2NjM4NDk2Nzk4OjowOjo&url=%2FSudhanya-Little-Millet-Instant-Breakfast%2Fdp%2FB0BF59S4PH%2Fref%3Dsr_1_2_sspa%3Fkeywords%3Didli%2Brava%26qid%3D1674890604%26sr%3D8-2-spons%26sp_csd%3Dd2lkZ2V0TmFtZT1zcF9hdGY%26psc%3D1'},\n",
       " {'product_name': 'Sudhanya Foxtail Millet Idli Rava 500 gm Instant Breakfast Mix',\n",
       "  'product_price': '₹80',\n",
       "  'product_ratings': '4.0 out of 5 stars',\n",
       "  'product_order': 'https://www.amazon.in//sspa/click?ie=UTF8&spc=MTo1OTg2ODY1OTQ0Nzg0MTY3OjE2NzQ4OTA2MDQ6c3BfYXRmOjIwMTEwNTg5NTQ5OTk4OjowOjo&url=%2FSudhanya-Foxtail-Millet-Instant-Breakfast%2Fdp%2FB0BF5C7FFY%2Fref%3Dsr_1_3_sspa%3Fkeywords%3Didli%2Brava%26qid%3D1674890604%26sr%3D8-3-spons%26sp_csd%3Dd2lkZ2V0TmFtZT1zcF9hdGY%26psc%3D1'},\n",
       " {'product_name': 'GM FOODS RAWA IDLI',\n",
       "  'product_price': '₹100',\n",
       "  'product_ratings': '3.0 out of 5 stars',\n",
       "  'product_order': 'https://www.amazon.in//sspa/click?ie=UTF8&spc=MTo1OTg2ODY1OTQ0Nzg0MTY3OjE2NzQ4OTA2MDQ6c3BfYXRmOjIwMTA4NjgzNjkyODk4OjowOjo&url=%2FGM-FOODS-RAWA-IDLI%2Fdp%2FB09TL88KH4%2Fref%3Dsr_1_4_sspa%3Fkeywords%3Didli%2Brava%26qid%3D1674890604%26sr%3D8-4-spons%26sp_csd%3Dd2lkZ2V0TmFtZT1zcF9hdGY%26psc%3D1'},\n",
       " {'product_name': 'Pure & Sure Organic Rava | Ready to Cook Meals | South Indian Rava Mix, Delicious & Aromatic, 1kg',\n",
       "  'product_price': '₹110',\n",
       "  'product_ratings': '4.2 out of 5 stars',\n",
       "  'product_order': 'https://www.amazon.in//sspa/click?ie=UTF8&spc=MTo1OTg2ODY1OTQ0Nzg0MTY3OjE2NzQ4OTA2MDQ6c3BfbXRmOjIwMDk5MDkzNjI0ODk4OjowOjo&url=%2FPure-Sure-Organic-Rava-1kg%2Fdp%2FB00M70ZWLS%2Fref%3Dsr_1_21_sspa%3Fkeywords%3Didli%2Brava%26qid%3D1674890604%26sr%3D8-21-spons%26sp_csd%3Dd2lkZ2V0TmFtZT1zcF9tdGY%26psc%3D1'},\n",
       " {'product_name': 'MAA FOODS & FLAVOURS MAA Idly Rawa , Rice Semolina | Sooji 3kg',\n",
       "  'product_price': '₹355',\n",
       "  'product_ratings': '4.3 out of 5 stars',\n",
       "  'product_order': 'https://www.amazon.in//sspa/click?ie=UTF8&spc=MTo1OTg2ODY1OTQ0Nzg0MTY3OjE2NzQ4OTA2MDQ6c3BfbXRmOjIwMDgwMzY3NTAyMzk4OjowOjo&url=%2FMAA-FOODS-FLAVOURS-Semolina-Sooji%2Fdp%2FB08D72MGLW%2Fref%3Dsr_1_22_sspa%3Fkeywords%3Didli%2Brava%26qid%3D1674890604%26sr%3D8-22-spons%26sp_csd%3Dd2lkZ2V0TmFtZT1zcF9tdGY%26psc%3D1'},\n",
       " {'product_name': 'Organic Tattva, Organic Fiber Rich Whole Suji / Sooji Rava, 1KG',\n",
       "  'product_price': '₹108',\n",
       "  'product_ratings': '4.4 out of 5 stars',\n",
       "  'product_order': 'https://www.amazon.in//sspa/click?ie=UTF8&spc=MTo1OTg2ODY1OTQ0Nzg0MTY3OjE2NzQ4OTA2MDQ6c3BfbXRmOjIwMDUwOTM5OTg5OTk4OjowOjo&url=%2FOrganic-Tattva-Suji-1kg%2Fdp%2FB00M57TPW0%2Fref%3Dsr_1_23_sspa%3Fkeywords%3Didli%2Brava%26qid%3D1674890604%26sr%3D8-23-spons%26sp_csd%3Dd2lkZ2V0TmFtZT1zcF9tdGY%26psc%3D1'},\n",
       " {'product_name': 'Pmw - Grade A Quality - Idly Ravva - Premium Idly Rawa - Chawal Da Atta - 1 Kilo',\n",
       "  'product_price': '₹239',\n",
       "  'product_ratings': '4.2 out of 5 stars',\n",
       "  'product_order': 'https://www.amazon.in//sspa/click?ie=UTF8&spc=MTo1OTg2ODY1OTQ0Nzg0MTY3OjE2NzQ4OTA2MDQ6c3BfYnRmOjIwMDQ0MjYyNTk2ODA2OjowOjo&url=%2FPmw%25C2%25AE-Grade-Quality-Premium-Chawal%2Fdp%2FB07QBLD5DP%2Fref%3Dsr_1_58_sspa%3Fkeywords%3Didli%2Brava%26qid%3D1674890604%26sr%3D8-58-spons%26sp_csd%3Dd2lkZ2V0TmFtZT1zcF9idGY%26psc%3D1'}]"
      ]
     },
     "execution_count": 21,
     "metadata": {},
     "output_type": "execute_result"
    }
   ],
   "source": [
    "result"
   ]
  },
  {
   "cell_type": "code",
   "execution_count": 22,
   "id": "0ecfdb8e",
   "metadata": {},
   "outputs": [
    {
     "name": "stdout",
     "output_type": "stream",
     "text": [
      "name Sudhanya Little Millet Idli Rava 500 gm Instant Breakfast Mix\n",
      "price ₹90\n",
      "ratings 2.0 out of 5 stars\n",
      "url_order https://www.amazon.in//sspa/click?ie=UTF8&spc=MTo1OTg2ODY1OTQ0Nzg0MTY3OjE2NzQ4OTA2MDQ6c3BfYXRmOjIwMDg2NjM4NDk2Nzk4OjowOjo&url=%2FSudhanya-Little-Millet-Instant-Breakfast%2Fdp%2FB0BF59S4PH%2Fref%3Dsr_1_2_sspa%3Fkeywords%3Didli%2Brava%26qid%3D1674890604%26sr%3D8-2-spons%26sp_csd%3Dd2lkZ2V0TmFtZT1zcF9hdGY%26psc%3D1\n",
      "name Sudhanya Foxtail Millet Idli Rava 500 gm Instant Breakfast Mix\n",
      "price ₹80\n",
      "ratings 4.0 out of 5 stars\n",
      "url_order https://www.amazon.in//sspa/click?ie=UTF8&spc=MTo1OTg2ODY1OTQ0Nzg0MTY3OjE2NzQ4OTA2MDQ6c3BfYXRmOjIwMTEwNTg5NTQ5OTk4OjowOjo&url=%2FSudhanya-Foxtail-Millet-Instant-Breakfast%2Fdp%2FB0BF5C7FFY%2Fref%3Dsr_1_3_sspa%3Fkeywords%3Didli%2Brava%26qid%3D1674890604%26sr%3D8-3-spons%26sp_csd%3Dd2lkZ2V0TmFtZT1zcF9hdGY%26psc%3D1\n",
      "name GM FOODS RAWA IDLI\n",
      "price ₹100\n",
      "ratings 3.0 out of 5 stars\n",
      "url_order https://www.amazon.in//sspa/click?ie=UTF8&spc=MTo1OTg2ODY1OTQ0Nzg0MTY3OjE2NzQ4OTA2MDQ6c3BfYXRmOjIwMTA4NjgzNjkyODk4OjowOjo&url=%2FGM-FOODS-RAWA-IDLI%2Fdp%2FB09TL88KH4%2Fref%3Dsr_1_4_sspa%3Fkeywords%3Didli%2Brava%26qid%3D1674890604%26sr%3D8-4-spons%26sp_csd%3Dd2lkZ2V0TmFtZT1zcF9hdGY%26psc%3D1\n",
      "name Pure & Sure Organic Rava | Ready to Cook Meals | South Indian Rava Mix, Delicious & Aromatic, 1kg\n",
      "price ₹110\n",
      "ratings 4.2 out of 5 stars\n",
      "url_order https://www.amazon.in//sspa/click?ie=UTF8&spc=MTo1OTg2ODY1OTQ0Nzg0MTY3OjE2NzQ4OTA2MDQ6c3BfbXRmOjIwMDk5MDkzNjI0ODk4OjowOjo&url=%2FPure-Sure-Organic-Rava-1kg%2Fdp%2FB00M70ZWLS%2Fref%3Dsr_1_21_sspa%3Fkeywords%3Didli%2Brava%26qid%3D1674890604%26sr%3D8-21-spons%26sp_csd%3Dd2lkZ2V0TmFtZT1zcF9tdGY%26psc%3D1\n",
      "name MAA FOODS & FLAVOURS MAA Idly Rawa , Rice Semolina | Sooji 3kg\n",
      "price ₹355\n",
      "ratings 4.3 out of 5 stars\n",
      "url_order https://www.amazon.in//sspa/click?ie=UTF8&spc=MTo1OTg2ODY1OTQ0Nzg0MTY3OjE2NzQ4OTA2MDQ6c3BfbXRmOjIwMDgwMzY3NTAyMzk4OjowOjo&url=%2FMAA-FOODS-FLAVOURS-Semolina-Sooji%2Fdp%2FB08D72MGLW%2Fref%3Dsr_1_22_sspa%3Fkeywords%3Didli%2Brava%26qid%3D1674890604%26sr%3D8-22-spons%26sp_csd%3Dd2lkZ2V0TmFtZT1zcF9tdGY%26psc%3D1\n",
      "name Organic Tattva, Organic Fiber Rich Whole Suji / Sooji Rava, 1KG\n",
      "price ₹108\n",
      "ratings 4.4 out of 5 stars\n",
      "url_order https://www.amazon.in//sspa/click?ie=UTF8&spc=MTo1OTg2ODY1OTQ0Nzg0MTY3OjE2NzQ4OTA2MDQ6c3BfbXRmOjIwMDUwOTM5OTg5OTk4OjowOjo&url=%2FOrganic-Tattva-Suji-1kg%2Fdp%2FB00M57TPW0%2Fref%3Dsr_1_23_sspa%3Fkeywords%3Didli%2Brava%26qid%3D1674890604%26sr%3D8-23-spons%26sp_csd%3Dd2lkZ2V0TmFtZT1zcF9tdGY%26psc%3D1\n",
      "name Pmw - Grade A Quality - Idly Ravva - Premium Idly Rawa - Chawal Da Atta - 1 Kilo\n",
      "price ₹239\n",
      "ratings 4.2 out of 5 stars\n",
      "url_order https://www.amazon.in//sspa/click?ie=UTF8&spc=MTo1OTg2ODY1OTQ0Nzg0MTY3OjE2NzQ4OTA2MDQ6c3BfYnRmOjIwMDQ0MjYyNTk2ODA2OjowOjo&url=%2FPmw%25C2%25AE-Grade-Quality-Premium-Chawal%2Fdp%2FB07QBLD5DP%2Fref%3Dsr_1_58_sspa%3Fkeywords%3Didli%2Brava%26qid%3D1674890604%26sr%3D8-58-spons%26sp_csd%3Dd2lkZ2V0TmFtZT1zcF9idGY%26psc%3D1\n"
     ]
    }
   ],
   "source": [
    "for i in result:\n",
    "    print(\"name\",i['product_name'])\n",
    "    print(\"price\",i['product_price'])\n",
    "    print(\"ratings\",i['product_ratings'])\n",
    "    print(\"url_order\",i['product_order'])\n",
    "    #print(i['product_name'])"
   ]
  },
  {
   "cell_type": "code",
   "execution_count": null,
   "id": "75163d42",
   "metadata": {},
   "outputs": [],
   "source": []
  }
 ],
 "metadata": {
  "kernelspec": {
   "display_name": "Python 3 (ipykernel)",
   "language": "python",
   "name": "python3"
  },
  "language_info": {
   "codemirror_mode": {
    "name": "ipython",
    "version": 3
   },
   "file_extension": ".py",
   "mimetype": "text/x-python",
   "name": "python",
   "nbconvert_exporter": "python",
   "pygments_lexer": "ipython3",
   "version": "3.9.13"
  }
 },
 "nbformat": 4,
 "nbformat_minor": 5
}
